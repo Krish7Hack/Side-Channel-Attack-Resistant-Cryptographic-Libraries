{
  "nbformat": 4,
  "nbformat_minor": 0,
  "metadata": {
    "colab": {
      "provenance": [],
      "authorship_tag": "ABX9TyMxfCZVdETm6liaatfY6JZg",
      "include_colab_link": true
    },
    "kernelspec": {
      "name": "python3",
      "display_name": "Python 3"
    },
    "language_info": {
      "name": "python"
    }
  },
  "cells": [
    {
      "cell_type": "markdown",
      "metadata": {
        "id": "view-in-github",
        "colab_type": "text"
      },
      "source": [
        "<a href=\"https://colab.research.google.com/github/Krish7Hack/Side-Channel-Attack-Resistant-Cryptographic-Libraries/blob/main/Side_Channel_Attack_Resistant_Cryptographic_Libraries.ipynb\" target=\"_parent\"><img src=\"https://colab.research.google.com/assets/colab-badge.svg\" alt=\"Open In Colab\"/></a>"
      ]
    },
    {
      "cell_type": "markdown",
      "source": [
        "# Side-Channel Attack Resistant Cryptographic Libraries\n",
        "# =====================================================\n",
        "# This notebook implements constant-time versions of AES, RSA, and ECC,\n",
        "# and evaluates their resistance to timing side-channel attacks.\n"
      ],
      "metadata": {
        "id": "X1izEDbmeeU0"
      }
    },
    {
      "cell_type": "code",
      "source": [
        "import numpy as np\n",
        "import time\n",
        "import matplotlib.pyplot as plt\n",
        "from tqdm.notebook import tqdm\n",
        "import secrets\n",
        "import random\n",
        "from concurrent.futures import ThreadPoolExecutor"
      ],
      "metadata": {
        "id": "eK-TaK37ehgs"
      },
      "execution_count": 1,
      "outputs": []
    },
    {
      "cell_type": "markdown",
      "source": [
        "# Helper functions for timing measurements"
      ],
      "metadata": {
        "id": "7NzbtcY1hrcS"
      }
    },
    {
      "cell_type": "code",
      "source": [
        "def measure_execution_time(func,*args,**kwargs):\n",
        "  \"Measure execution time of a function in nanoseconds\"\n",
        "  start = time.perf_counter_ns() #Time spent during sleep or system clock cahnges\n",
        "  result = func(*args,**kwargs)\n",
        "  end = time.perf_counter_ns() #Records the time after the functions finishes executing\n",
        "  return result,end-start"
      ],
      "metadata": {
        "id": "EEqwz8RjhsXW"
      },
      "execution_count": 2,
      "outputs": []
    },
    {
      "cell_type": "code",
      "source": [
        "def collect_timing_samples(func,samples=1000,*args,**kwargs):\n",
        "  \"Collect timing sample for each function\"\n",
        "  times = []\n",
        "  for _ in tqdm(range(samples)):\n",
        "    _, execution_time = measure_execution_time(func,*args,**kwargs)\n",
        "    times.append(execution_time)\n",
        "  return times\n",
        "#Here tqdm shows a smart progress bar for loop and iterable operations"
      ],
      "metadata": {
        "id": "JPaWRZKR8J5G"
      },
      "execution_count": 3,
      "outputs": []
    },
    {
      "cell_type": "code",
      "source": [
        "def plot_timing_comparison(timing_data,labels,title):\n",
        "  \"Plot timing comparison between implementation\"\n",
        "  plt.figure(figsize=(12,6))\n",
        "\n",
        "  for i,times in enumerate(timing_data):\n",
        "    plt.hist(times,bins=50,alpha=0.5,label=labels[i])\n",
        "\n",
        "    plt.xlabel('Execution Time (ns)')\n",
        "    plt.ylabel('Frequency')\n",
        "    plt.title(title)\n",
        "    plt.legend()\n",
        "    plt.grid(True,alpha=0.3)\n",
        "    plt.show()\n",
        "\n",
        "    #Print Statistics\n",
        "    for i ,times in enumerate(timing_data):\n",
        "      print(f\"{labels[i]}\")\n",
        "      print(f\" Mean: {np.mean(times):.2f} ns\")\n",
        "      print(f\"  Std Dev: {np.std(times):.2f} ns\")\n",
        "      print(f\"  Variance: {np.var(times):.2f}\")\n",
        "      print(f\"  Min: {np.min(times):.2f} ns\")\n",
        "      print(f\"  Max: {np.max(times):.2f} ns\")\n",
        "      print()"
      ],
      "metadata": {
        "id": "x0BEG9Qw-gAA"
      },
      "execution_count": 4,
      "outputs": []
    },
    {
      "cell_type": "markdown",
      "source": [
        "# 1. Constant-Time AES Implementation\n"
      ],
      "metadata": {
        "id": "IVWJKSmovX9W"
      }
    },
    {
      "cell_type": "code",
      "source": [
        "class AES:\n",
        "  \"\"\" A constant time implementation of AES-128 \"\"\"\n",
        "  #AES S-BOX\n",
        "  SBOX = [\n",
        "      0x63, 0x7c, 0x77, 0x7b, 0xf2, 0x6b, 0x6f, 0xc5, 0x30, 0x01, 0x67, 0x2b, 0xfe, 0xd7, 0xab, 0x76,\n",
        "      0xca, 0x82, 0xc9, 0x7d, 0xfa, 0x59, 0x47, 0xf0, 0xad, 0xd4, 0xa2, 0xaf, 0x9c, 0xa4, 0x72, 0xc0,\n",
        "      0xb7, 0xfd, 0x93, 0x26, 0x36, 0x3f, 0xf7, 0xcc, 0x34, 0xa5, 0xe5, 0xf1, 0x71, 0xd8, 0x31, 0x15,\n",
        "      0x04, 0xc7, 0x23, 0xc3, 0x18, 0x96, 0x05, 0x9a, 0x07, 0x12, 0x80, 0xe2, 0xeb, 0x27, 0xb2, 0x75,\n",
        "      0x09, 0x83, 0x2c, 0x1a, 0x1b, 0x6e, 0x5a, 0xa0, 0x52, 0x3b, 0xd6, 0xb3, 0x29, 0xe3, 0x2f, 0x84,\n",
        "      0x53, 0xd1, 0x00, 0xed, 0x20, 0xfc, 0xb1, 0x5b, 0x6a, 0xcb, 0xbe, 0x39, 0x4a, 0x4c, 0x58, 0xcf,\n",
        "      0xd0, 0xef, 0xaa, 0xfb, 0x43, 0x4d, 0x33, 0x85, 0x45, 0xf9, 0x02, 0x7f, 0x50, 0x3c, 0x9f, 0xa8,\n",
        "      0x51, 0xa3, 0x40, 0x8f, 0x92, 0x9d, 0x38, 0xf5, 0xbc, 0xb6, 0xda, 0x21, 0x10, 0xff, 0xf3, 0xd2,\n",
        "      0xcd, 0x0c, 0x13, 0xec, 0x5f, 0x97, 0x44, 0x17, 0xc4, 0xa7, 0x7e, 0x3d, 0x64, 0x5d, 0x19, 0x73,\n",
        "      0x60, 0x81, 0x4f, 0xdc, 0x22, 0x2a, 0x90, 0x88, 0x46, 0xee, 0xb8, 0x14, 0xde, 0x5e, 0x0b, 0xdb,\n",
        "      0xe0, 0x32, 0x3a, 0x0a, 0x49, 0x06, 0x24, 0x5c, 0xc2, 0xd3, 0xac, 0x62, 0x91, 0x95, 0xe4, 0x79,\n",
        "      0xe7, 0xc8, 0x37, 0x6d, 0x8d, 0xd5, 0x4e, 0xa9, 0x6c, 0x56, 0xf4, 0xea, 0x65, 0x7a, 0xae, 0x08,\n",
        "      0xba, 0x78, 0x25, 0x2e, 0x1c, 0xa6, 0xb4, 0xc6, 0xe8, 0xdd, 0x74, 0x1f, 0x4b, 0xbd, 0x8b, 0x8a,\n",
        "      0x70, 0x3e, 0xb5, 0x66, 0x48, 0x03, 0xf6, 0x0e, 0x61, 0x35, 0x57, 0xb9, 0x86, 0xc1, 0x1d, 0x9e,\n",
        "      0xe1, 0xf8, 0x98, 0x11, 0x69, 0xd9, 0x8e, 0x94, 0x9b, 0x1e, 0x87, 0xe9, 0xce, 0x55, 0x28, 0xdf,\n",
        "      0x8c, 0xa1, 0x89, 0x0d, 0xbf, 0xe6, 0x42, 0x68, 0x41, 0x99, 0x2d, 0x0f, 0xb0, 0x54, 0xbb, 0x16\n",
        "    ]\n",
        "  #AES inverse S-BOX\n",
        "  INV_SBOX = [\n",
        "      0x52, 0x09, 0x6a, 0xd5, 0x30, 0x36, 0xa5, 0x38, 0xbf, 0x40, 0xa3, 0x9e, 0x81, 0xf3, 0xd7, 0xfb,\n",
        "      0x7c, 0xe3, 0x39, 0x82, 0x9b, 0x2f, 0xff, 0x87, 0x34, 0x8e, 0x43, 0x44, 0xc4, 0xde, 0xe9, 0xcb,\n",
        "      0x54, 0x7b, 0x94, 0x32, 0xa6, 0xc2, 0x23, 0x3d, 0xee, 0x4c, 0x95, 0x0b, 0x42, 0xfa, 0xc3, 0x4e,\n",
        "      0x08, 0x2e, 0xa1, 0x66, 0x28, 0xd9, 0x24, 0xb2, 0x76, 0x5b, 0xa2, 0x49, 0x6d, 0x8b, 0xd1, 0x25,\n",
        "      0x72, 0xf8, 0xf6, 0x64, 0x86, 0x68, 0x98, 0x16, 0xd4, 0xa4, 0x5c, 0xcc, 0x5d, 0x65, 0xb6, 0x92,\n",
        "      0x6c, 0x70, 0x48, 0x50, 0xfd, 0xed, 0xb9, 0xda, 0x5e, 0x15, 0x46, 0x57, 0xa7, 0x8d, 0x9d, 0x84,\n",
        "      0x90, 0xd8, 0xab, 0x00, 0x8c, 0xbc, 0xd3, 0x0a, 0xf7, 0xe4, 0x58, 0x05, 0xb8, 0xb3, 0x45, 0x06,\n",
        "      0xd0, 0x2c, 0x1e, 0x8f, 0xca, 0x3f, 0x0f, 0x02, 0xc1, 0xaf, 0xbd, 0x03, 0x01, 0x13, 0x8a, 0x6b,\n",
        "      0x3a, 0x91, 0x11, 0x41, 0x4f, 0x67, 0xdc, 0xea, 0x97, 0xf2, 0xcf, 0xce, 0xf0, 0xb4, 0xe6, 0x73,\n",
        "      0x96, 0xac, 0x74, 0x22, 0xe7, 0xad, 0x35, 0x85, 0xe2, 0xf9, 0x37, 0xe8, 0x1c, 0x75, 0xdf, 0x6e,\n",
        "      0x47, 0xf1, 0x1a, 0x71, 0x1d, 0x29, 0xc5, 0x89, 0x6f, 0xb7, 0x62, 0x0e, 0xaa, 0x18, 0xbe, 0x1b,\n",
        "      0xfc, 0x56, 0x3e, 0x4b, 0xc6, 0xd2, 0x79, 0x20, 0x9a, 0xdb, 0xc0, 0xfe, 0x78, 0xcd, 0x5a, 0xf4,\n",
        "      0x1f, 0xdd, 0xa8, 0x33, 0x88, 0x07, 0xc7, 0x31, 0xb1, 0x12, 0x10, 0x59, 0x27, 0x80, 0xec, 0x5f,\n",
        "      0x60, 0x51, 0x7f, 0xa9, 0x19, 0xb5, 0x4a, 0x0d, 0x2d, 0xe5, 0x7a, 0x9f, 0x93, 0xc9, 0x9c, 0xef,\n",
        "      0xa0, 0xe0, 0x3b, 0x4d, 0xae, 0x2a, 0xf5, 0xb0, 0xc8, 0xeb, 0xbb, 0x3c, 0x83, 0x53, 0x99, 0x61,\n",
        "      0x17, 0x2b, 0x04, 0x7e, 0xba, 0x77, 0xd6, 0x26, 0xe1, 0x69, 0x14, 0x63, 0x55, 0x21, 0x0c, 0x7d\n",
        "    ]\n",
        "  #Round Constants\n",
        "  RCON = [0x01, 0x02, 0x04, 0x08, 0x10, 0x20, 0x40, 0x80, 0x1b, 0x36]"
      ],
      "metadata": {
        "id": "NUsHEQF8vcEm"
      },
      "execution_count": 5,
      "outputs": []
    },
    {
      "cell_type": "code",
      "source": [
        "def __init__(self,key):\n",
        "  \"Initialize with a 16-byte key\"\n",
        "  if len(key) != 16:\n",
        "    raise ValueError(\"Key must be 16 bytes (128bits)\")\n",
        "  self.round_keys = self._key_expansion(key)"
      ],
      "metadata": {
        "id": "EHd7GUg9NAwp"
      },
      "execution_count": 6,
      "outputs": []
    },
    {
      "cell_type": "code",
      "source": [
        "def _sub_bytes(self,state):\n",
        "  \"\"\"SubBytes transformation - constant time implementation\"\"\"\n",
        "  for i in range(16):\n",
        "    state[i] = self.SBOX[state[i]]\n",
        "  return state"
      ],
      "metadata": {
        "id": "ihxrfieRNeb2"
      },
      "execution_count": 7,
      "outputs": []
    },
    {
      "cell_type": "code",
      "source": [
        "def _shift_rowa(self,state):\n",
        "  \"\"\"ShiftRows Transformation\"\"\"\n",
        "  # Convert state to 4 x 4 matrix\n",
        "  matrix = [state[i::4] for i in range(4)]\n",
        "\n",
        "  #Shift rows\n",
        "  for i in range(1,4):\n",
        "    matrix[i] = matrix[i][i:] + matrix[i][:i]\n",
        "  #Convert back to flat array\n",
        "  result = []\n",
        "  for col in range(4):\n",
        "    for row in range(4):\n",
        "      result.append(matrix[row][col])\n",
        "\n",
        "  return result"
      ],
      "metadata": {
        "id": "MekB4xaI4gfE"
      },
      "execution_count": 8,
      "outputs": []
    },
    {
      "cell_type": "code",
      "source": [
        "def _mix_columns(self,state):\n",
        "  \"\"\"MixColumns transformation \"\"\"\n",
        "  result = [0] * 16\n",
        "  for col in range(4):\n",
        "    s0 = state[col*4]\n",
        "    s1 = state[col*4 + 1]\n",
        "    s2 = state[col*4 + 2]\n",
        "    s3 = state[col*4 + 3]\n",
        "\n",
        "    #Constant-time Galois field multiplication\n",
        "    result[col * 4] = self._gmul(2,s0) ^ self._gmul(3,s1) ^ s2 ^ s3\n",
        "    result[col * 4 + 1] = s0 ^ self._gmul(2,s1) ^ self.gmul(3,s2) ^ s3\n",
        "    result[col * 4 + 2] = s0 ^ s1 ^ self._gmul(2,s2) ^ self.gmul(3,s3)\n",
        "    result[col * 4 + 3] = self.gmul(3,s0) ^ s1 ^ s2 ^ self.gmul(2,s3)\n",
        "\n",
        "  return result"
      ],
      "metadata": {
        "id": "GZSNjpIA6PRX"
      },
      "execution_count": 9,
      "outputs": []
    },
    {
      "cell_type": "code",
      "source": [
        "def _gmul(self,a,b):\n",
        "  \"\"\"Galois field multiplication in constant time\"\"\"\n",
        "  p = 0\n",
        "  for i in range(8):\n",
        "    if b & 1:\n",
        "      p ^= a\n",
        "\n",
        "    #Track if a will overflow\n",
        "    high_bit = a & 0x80\n",
        "\n",
        "    #Left shift a\n",
        "    a <<= 1\n",
        "\n",
        "    #If there was a high bit,XOR with 0x1B\n",
        "    if high_bit:\n",
        "      a ^= 0x1B\n",
        "\n",
        "    #Right shit b\n",
        "    b >>= 1\n",
        "\n",
        "  return p & 0xFF"
      ],
      "metadata": {
        "id": "CPZyF0c3h6oi"
      },
      "execution_count": null,
      "outputs": []
    },
    {
      "cell_type": "code",
      "source": [
        "def _add_round_key(self,state,round_key):\n",
        "  \"\"\"Add RoundKey transformation \"\"\"\n",
        "  for i in range(16):\n",
        "    state[i] ^= round_key[i]\n",
        "  return state"
      ],
      "metadata": {
        "id": "XsgjS7e9gKIx"
      },
      "execution_count": null,
      "outputs": []
    },
    {
      "cell_type": "code",
      "source": [
        "def _key_expansion(self,key):\n",
        "  \"\"\"Key expansion algorithm\"\"\"\n",
        "  key_bytes = list(key)\n",
        "  w = [0] * 176 #11 round keys(16 bytes each)\n",
        "\n",
        "  #Copy the initial key\n",
        "  for i in range(16):\n",
        "    w[i] = key_bytes[i]\n",
        "\n",
        "  #Generate the expanded key\n",
        "  for i in range(4,44):\n",
        "    temp = w[(i-1)*4:(i-1)*4+4]\n",
        "\n",
        "    if i % 4 == 0:\n",
        "      #Rotword : Rotate Left\n",
        "      temp = temp[1:] + temp[:1]\n",
        "\n",
        "      #Subword : Apply S-box\n",
        "      for j in range(4):\n",
        "        temp[j] = self.Sbox[temp[j]]"
      ],
      "metadata": {
        "id": "tOYhtMferALf"
      },
      "execution_count": null,
      "outputs": []
    }
  ]
}