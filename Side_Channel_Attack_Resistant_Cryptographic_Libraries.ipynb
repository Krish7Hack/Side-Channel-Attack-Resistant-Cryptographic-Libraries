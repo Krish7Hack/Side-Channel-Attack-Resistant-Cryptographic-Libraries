{
  "nbformat": 4,
  "nbformat_minor": 0,
  "metadata": {
    "colab": {
      "provenance": [],
      "authorship_tag": "ABX9TyO66moheY0impwSmbVpGQdK",
      "include_colab_link": true
    },
    "kernelspec": {
      "name": "python3",
      "display_name": "Python 3"
    },
    "language_info": {
      "name": "python"
    }
  },
  "cells": [
    {
      "cell_type": "markdown",
      "metadata": {
        "id": "view-in-github",
        "colab_type": "text"
      },
      "source": [
        "<a href=\"https://colab.research.google.com/github/Krish7Hack/Side-Channel-Attack-Resistant-Cryptographic-Libraries/blob/main/Side_Channel_Attack_Resistant_Cryptographic_Libraries.ipynb\" target=\"_parent\"><img src=\"https://colab.research.google.com/assets/colab-badge.svg\" alt=\"Open In Colab\"/></a>"
      ]
    },
    {
      "cell_type": "markdown",
      "source": [
        "# Side-Channel Attack Resistant Cryptographic Libraries\n",
        "# =====================================================\n",
        "# This notebook implements constant-time versions of AES, RSA, and ECC,\n",
        "# and evaluates their resistance to timing side-channel attacks.\n"
      ],
      "metadata": {
        "id": "X1izEDbmeeU0"
      }
    },
    {
      "cell_type": "code",
      "source": [
        "import numpy as np\n",
        "import time\n",
        "import matplotlib.pyplot as plt\n",
        "from tqdm.notebook import tqdm\n",
        "import secrets\n",
        "import random\n",
        "from concurrent.futures import ThreadPoolExecutor"
      ],
      "metadata": {
        "id": "eK-TaK37ehgs"
      },
      "execution_count": null,
      "outputs": []
    },
    {
      "cell_type": "markdown",
      "source": [
        "# Helper functions for timing measurements"
      ],
      "metadata": {
        "id": "7NzbtcY1hrcS"
      }
    },
    {
      "cell_type": "code",
      "source": [
        "def measure_execution_time(func,*args,**kwargs):\n",
        "  \"Measure execution time of a function in nanoseconds\"\n"
      ],
      "metadata": {
        "id": "EEqwz8RjhsXW"
      },
      "execution_count": null,
      "outputs": []
    }
  ]
}