{
  "nbformat": 4,
  "nbformat_minor": 0,
  "metadata": {
    "colab": {
      "provenance": [],
      "authorship_tag": "ABX9TyMTJat0SoL/kIRCP1qCU5ZU",
      "include_colab_link": true
    },
    "kernelspec": {
      "name": "python3",
      "display_name": "Python 3"
    },
    "language_info": {
      "name": "python"
    }
  },
  "cells": [
    {
      "cell_type": "markdown",
      "metadata": {
        "id": "view-in-github",
        "colab_type": "text"
      },
      "source": [
        "<a href=\"https://colab.research.google.com/github/Krish7Hack/Side-Channel-Attack-Resistant-Cryptographic-Libraries/blob/main/Side_Channel_Attack_Resistant_Cryptographic_Libraries.ipynb\" target=\"_parent\"><img src=\"https://colab.research.google.com/assets/colab-badge.svg\" alt=\"Open In Colab\"/></a>"
      ]
    },
    {
      "cell_type": "markdown",
      "source": [
        "# Side-Channel Attack Resistant Cryptographic Libraries\n",
        "# =====================================================\n",
        "# This notebook implements constant-time versions of AES, RSA, and ECC,\n",
        "# and evaluates their resistance to timing side-channel attacks.\n"
      ],
      "metadata": {
        "id": "X1izEDbmeeU0"
      }
    },
    {
      "cell_type": "code",
      "source": [
        "import numpy as np\n",
        "import time\n",
        "import matplotlib.pyplot as plt\n",
        "from tqdm.notebook import tqdm\n",
        "import secrets\n",
        "import random\n",
        "from concurrent.futures import ThreadPoolExecutor"
      ],
      "metadata": {
        "id": "eK-TaK37ehgs"
      },
      "execution_count": null,
      "outputs": []
    },
    {
      "cell_type": "markdown",
      "source": [
        "# Helper functions for timing measurements"
      ],
      "metadata": {
        "id": "7NzbtcY1hrcS"
      }
    },
    {
      "cell_type": "code",
      "source": [
        "def measure_execution_time(func,*args,**kwargs):\n",
        "  \"Measure execution time of a function in nanoseconds\"\n",
        "  start = time.perf_counter_ns() #Time spent during sleep or system clock cahnges\n",
        "  result = func(*args,**kwargs)\n",
        "  end = time.perf_counter_ns() #Records the time after the functions finishes executing\n",
        "  return result,end-start"
      ],
      "metadata": {
        "id": "EEqwz8RjhsXW"
      },
      "execution_count": 1,
      "outputs": []
    },
    {
      "cell_type": "code",
      "source": [
        "def collect_timing_samples(func,samples=1000,*args,**kwargs):\n",
        "  \"Collect timing sample for each function\"\n",
        "  times = []\n",
        "  for _ in tqdm(range(samples)):\n",
        "    _, execution_time = measure_execution_time(func,*args,**kwargs)\n",
        "    times.append(execution_time)\n",
        "  return times\n",
        "#Here tqdm shows a smart progress bar for loop  and iterable operations"
      ],
      "metadata": {
        "id": "JPaWRZKR8J5G"
      },
      "execution_count": 3,
      "outputs": []
    },
    {
      "cell_type": "code",
      "source": [],
      "metadata": {
        "id": "x0BEG9Qw-gAA"
      },
      "execution_count": null,
      "outputs": []
    }
  ]
}